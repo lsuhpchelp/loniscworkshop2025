{
 "cells": [
  {
   "cell_type": "markdown",
   "metadata": {
    "colab_type": "text",
    "id": "view-in-github"
   },
   "source": [
    "<a href=\"https://colab.research.google.com/github/lsuhpchelp/loniscworkshop2025/blob/main/day2/IntermediatePython_Exercises.ipynb\" target=\"_parent\"><img src=\"https://colab.research.google.com/assets/colab-badge.svg\" alt=\"Open In Colab\"/></a>"
   ]
  },
  {
   "cell_type": "markdown",
   "metadata": {
    "id": "moft_pMusdrL"
   },
   "source": [
    "# **Day 2: Intermediate Python (Exercises)**\n",
    "### 2025 LONI Scientific Computing Bootcamp\n",
    "\n",
    "Dr. Jianxiong \"Jason\" Li\n",
    "\n",
    "jasonli3@lsu.edu\n",
    "\n",
    "Jun 3, 2025"
   ]
  },
  {
   "cell_type": "code",
   "execution_count": 4,
   "metadata": {
    "id": "8UqjNabksdrD"
   },
   "outputs": [],
   "source": [
    "# Run this first so that you do not have to load NumPy every time\n",
    "import numpy as np"
   ]
  },
  {
   "cell_type": "markdown",
   "metadata": {
    "id": "JV1Z-KcDgOAm"
   },
   "source": [
    "<br><br>\n",
    "\n",
    "---\n",
    "## **1. Warm Up**\n",
    "---"
   ]
  },
  {
   "cell_type": "markdown",
   "metadata": {
    "id": "PWibTAqRsdrN"
   },
   "source": [
    "### **1) Creation:**\n",
    "\n",
    "Create a 1-D array:\n",
    "\n",
    "* Type is `float32`\n",
    "* From `0` to no more than `30`, step length is `3`\n",
    "* Do not use `np.array()` method!\n",
    "* Desired output:\n",
    ">```\n",
    "[0. 3. 6. 9. 12. 15. 18. 21. 24. 27.]\n",
    "float32\n",
    "```"
   ]
  },
  {
   "cell_type": "code",
   "execution_count": null,
   "metadata": {
    "id": "ARM2TemzsdrO"
   },
   "outputs": [],
   "source": [
    "myAry = # FIX ME\n",
    "print(myAry)\n",
    "print(myAry.dtype)"
   ]
  },
  {
   "cell_type": "markdown",
   "metadata": {
    "id": "N8gynHpPsdrT"
   },
   "source": [
    "### **2) Reshape**\n",
    "\n",
    "* Reshape the above 1-D array to a 2-D array with 2 rows\n",
    "* Desired output:\n",
    ">```\n",
    "[[ 0.  3.  6.  9. 12.]\n",
    " [15. 18. 21. 24. 27.]]\n",
    " ```"
   ]
  },
  {
   "cell_type": "code",
   "execution_count": null,
   "metadata": {
    "id": "v6gEGTz6sdrU"
   },
   "outputs": [],
   "source": [
    "myAry2 = # FIX ME\n",
    "print(myAry2)"
   ]
  },
  {
   "cell_type": "markdown",
   "metadata": {
    "id": "himJOppusdrZ"
   },
   "source": [
    "### **3) Slicing**\n",
    "\n",
    "* From the original 1D array, get every second element in the reverse order from index 5\n",
    "* Desired output:\n",
    "\n",
    "> ```\n",
    "[15, 9, 3]\n",
    " ```"
   ]
  },
  {
   "cell_type": "code",
   "execution_count": null,
   "metadata": {
    "id": "Q3225D4Ysdrd"
   },
   "outputs": [],
   "source": [
    "myAry3 = # FIX ME\n",
    "print(myAry3)"
   ]
  },
  {
   "cell_type": "markdown",
   "metadata": {},
   "source": [
    "* From above array, pick every other element on axis 1, and keep axis 0\n",
    "* Desired out\n",
    "> ```\n",
    "  [[ 0.  6. 12.]\n",
    "  [15. 21. 27.]]\n",
    "  ```"
   ]
  },
  {
   "cell_type": "code",
   "execution_count": 1,
   "metadata": {},
   "outputs": [
    {
     "ename": "SyntaxError",
     "evalue": "invalid syntax (2891490207.py, line 1)",
     "output_type": "error",
     "traceback": [
      "  \u001b[36mCell\u001b[39m\u001b[36m \u001b[39m\u001b[32mIn[1]\u001b[39m\u001b[32m, line 1\u001b[39m\n\u001b[31m    \u001b[39m\u001b[31mmyAry4 = # FIX ME\u001b[39m\n             ^\n\u001b[31mSyntaxError\u001b[39m\u001b[31m:\u001b[39m invalid syntax\n"
     ]
    }
   ],
   "source": [
    "myAry4 = # FIX ME\n",
    "print(myAry4)"
   ]
  },
  {
   "cell_type": "markdown",
   "metadata": {
    "id": "B3YXeSYmn-d8"
   },
   "source": [
    "### **4) Basic Operations**\n",
    "\n",
    "* For above array, calculate the square of each element, then change the data type to `int`\n",
    "* Desired output:\n",
    "> ```\n",
    "[[  0  36 144]\n",
    " [225 441 729]]\n",
    " ```"
   ]
  },
  {
   "cell_type": "code",
   "execution_count": null,
   "metadata": {
    "id": "J9TPT9ouoj_l"
   },
   "outputs": [],
   "source": [
    "myAry4 = # FIX ME\n",
    "print(myAry4)"
   ]
  },
  {
   "cell_type": "markdown",
   "metadata": {
    "id": "cje4oMbusdrm"
   },
   "source": [
    "### **5) Aggregation Functions**\n",
    "\n",
    "* For above array, sum over rows and columns of above array, respectively\n",
    "* Desired output:\n",
    ">```\n",
    "[225 477 873]\n",
    "[ 180 1395]\n",
    "```"
   ]
  },
  {
   "cell_type": "code",
   "execution_count": null,
   "metadata": {
    "id": "m4lTMcPXsdro"
   },
   "outputs": [],
   "source": [
    "row_sum = # FIX ME\n",
    "print(row_sum)\n",
    "\n",
    "col_sum = # FIX ME\n",
    "print(col_sum)"
   ]
  },
  {
   "cell_type": "markdown",
   "metadata": {
    "id": "njC4cbl5sdrh"
   },
   "source": [
    "### **6) Broadcast**\n",
    "\n",
    "* Calculate Gaussian from Cartesian coordinates\n",
    "$$\n",
    "G(x, y) = \\exp\\left( -\\frac{x^2 + y^2}{2\\sigma^2} \\right)\n",
    "$$ \n",
    "Where **$$ x, y \\in [-3, 3], \\sigma = 1. $$**\n",
    "* Gaussian is the exponent of `x^2 + y^2` (Hint: Use `np.exp()`)\n",
    "* Both `x` and `y` range from `-3` to `3`, a total of linearly spaced `7` elements\n",
    "* You result should be a `(7 x 7)` array, each element is the Gaussian of coordinates `(x, y)`.\n",
    "* Try **NOT** to use loop even if you are attempted to!!\n",
    "* Desired output:\n",
    ">```\n",
    "x =  [-3. -2. -1.  0.  1.  2.  3.]\n",
    "y =\n",
    " [[-3.]\n",
    " [-2.]\n",
    " [-1.]\n",
    " [ 0.]\n",
    " [ 1.]\n",
    " [ 2.]\n",
    " [ 3.]]\n",
    "G =\n",
    "[[0.00012 0.00148 0.01111 0.04394 0.01111 0.00148 0.00012]\n",
    " [0.00148 0.01832 0.13738 0.54335 0.13738 0.01832 0.00148]\n",
    " [0.01111 0.13738 1.00000 0.36788 1.00000 0.13738 0.01111]\n",
    " [0.04394 0.54335 0.36788 1.00000 0.36788 0.54335 0.04394]\n",
    " [0.01111 0.13738 1.00000 0.36788 1.00000 0.13738 0.01111]\n",
    " [0.00148 0.01832 0.13738 0.54335 0.13738 0.01832 0.00148]\n",
    " [0.00012 0.00148 0.01111 0.04394 0.01111 0.00148 0.00012]]\n",
    " ```"
   ]
  },
  {
   "cell_type": "code",
   "execution_count": 5,
   "metadata": {
    "id": "zAdpTu43sdri"
   },
   "outputs": [
    {
     "ename": "SyntaxError",
     "evalue": "invalid syntax (4234285557.py, line 1)",
     "output_type": "error",
     "traceback": [
      "  \u001b[36mCell\u001b[39m\u001b[36m \u001b[39m\u001b[32mIn[5]\u001b[39m\u001b[32m, line 1\u001b[39m\n\u001b[31m    \u001b[39m\u001b[31mx = # FIX ME\u001b[39m\n        ^\n\u001b[31mSyntaxError\u001b[39m\u001b[31m:\u001b[39m invalid syntax\n"
     ]
    }
   ],
   "source": [
    "x = # FIX ME\n",
    "y = # FIX ME\n",
    "sigma=1\n",
    "print(\"x = \", x)\n",
    "print(\"y = \\n\", y)\n",
    "\n",
    "#Hint: Use np.exp() to calculate the Gaussian\n",
    "G = # FIX ME\n",
    "np.set_printoptions(suppress=True, precision=5) #Avoid printing in scientific format\n",
    "print(\"G = \\n\", G)"
   ]
  },
  {
   "cell_type": "markdown",
   "metadata": {
    "id": "bD6vRpoSsdrt"
   },
   "source": [
    "<br><br>\n",
    "\n",
    "---\n",
    "## **2. Write Your Own ReLU Function**\n",
    "---\n",
    "\n",
    "> * The purpose of this exercise is to practice the use of advanced indexing."
   ]
  },
  {
   "cell_type": "markdown",
   "metadata": {
    "id": "eO7jjZPohoIq"
   },
   "source": [
    "Rectified Linear Unit (ReLU) is a commonly used activation function in machine learning. The definition is simple:\n",
    "\n",
    "![P_2_ReLU.png](https://github.com/lsuhpchelp/loniscworkshop2025/raw/main/day2/images/P_2_ReLU.png)\n",
    "\n",
    "Here, you are asked to write your own ReLU funcion acting on a data array:\n",
    "\n",
    "* **Input**:\n",
    "  * An array of numbers (int or float).\n",
    "* **Function**:\n",
    "  * Changes all negative numbers in the input array to 0.\n",
    "  * Modifies the input array **in-place** (not returning a copy of the result).\n",
    "\n",
    "**!!CAUTION!!**\n",
    "\n",
    "* I did not say the input is 1-D array. Could be any arbitrary shape.\n",
    "* Use ufunc, advanced indexing and/or any other method for efficiency.\n",
    "* Do **NOT** use loop even if you are attempted to!! Don't do anything like this:\n",
    ">```\n",
    "for i in range(x.size):\n",
    "    if x[i]<0:\n",
    "      ...\n",
    "```\n",
    "* Hint: Feel free to use any method to achieve it. Below I provided hints to two differnt methods using what we talked about today:\n",
    "  * Method 1: Keep in mind boolean array indexing is a reference.\n",
    "  * Method 2: When used in arithmatic calculation, boolean value `True` is treated as `1`, and `False` as `0`."
   ]
  },
  {
   "cell_type": "code",
   "execution_count": null,
   "metadata": {
    "id": "D32K6zRlsdru"
   },
   "outputs": [],
   "source": [
    "# Define your own ReLU function\n",
    "def relu(x):\n",
    "  # FIX ME\n",
    "\n",
    "myAry = np.random.random([5, 5]) - 0.5\n",
    "print(\"Input = \\n\", myAry)\n",
    "\n",
    "relu(myAry)\n",
    "print(\"\\nOutput = \\n\", myAry)"
   ]
  },
  {
   "cell_type": "markdown",
   "metadata": {
    "id": "MkqonkYTsxMg"
   },
   "source": [
    "<br><br>\n",
    "\n",
    "---\n",
    "## **3. Statistics with NumPy**\n",
    "---\n",
    "\n",
    "> * The purpose of this exercise is to practice the use of slicing, aggregation functions and advanced indexing."
   ]
  },
  {
   "cell_type": "markdown",
   "metadata": {},
   "source": [
    "### **Example 1** ###"
   ]
  },
  {
   "cell_type": "markdown",
   "metadata": {},
   "source": [
    "In this example, you are monitoring the height (in cm) of 3 plants over 7 days in your lab. You need to calculate the growth of these 3 plants over 7 days. Use NumPy to analyze and simulate their growth.\n",
    "\n",
    "**These are your tasks:**\n",
    "\n",
    "* Create the numpy array\n",
    "* Simulate a fertilizer boost, e.g, each plant height is growing by 5% per each day (multiply with 1.05 every height)\n",
    "* Compute statistics like average height, max height, and total growth\n"
   ]
  },
  {
   "cell_type": "code",
   "execution_count": 3,
   "metadata": {},
   "outputs": [
    {
     "ename": "SyntaxError",
     "evalue": "invalid syntax (389339653.py, line 9)",
     "output_type": "error",
     "traceback": [
      "  \u001b[36mCell\u001b[39m\u001b[36m \u001b[39m\u001b[32mIn[3]\u001b[39m\u001b[32m, line 9\u001b[39m\n\u001b[31m    \u001b[39m\u001b[31mheights = # FIX ME\u001b[39m\n              ^\n\u001b[31mSyntaxError\u001b[39m\u001b[31m:\u001b[39m invalid syntax\n"
     ]
    }
   ],
   "source": [
    "# 1. Create a NumPy array with heights (in cm) of 3 plants over 7 days\n",
    "# Use np.array() to define this 2D array (shape: 3x7)\n",
    "# Hint: Use np.array with 3 sub-lists (one per plant)\n",
    "\n",
    "# Plant A: 10, 12, 14, 15, 15.5, 16, 17\n",
    "# Plant B: 8, 8.5, 9, 9.8, 10.2, 11, 12\n",
    "# Plant C: 9, 9.5, 10.5, 11, 11.8, 12.5, 13\n",
    "\n",
    "heights = # FIX ME\n",
    "print(\"heights\\n= \", heights)"
   ]
  },
  {
   "cell_type": "code",
   "execution_count": null,
   "metadata": {},
   "outputs": [],
   "source": [
    "# 2. Simulate a fertilizer boost: each plant grow 5% more each day\n",
    "# Use a universal function (ufunc) to scale each plant height by 1.05\n",
    "# Hint: Use element-wise multiplication\n",
    "\n",
    "boosted = # FIX ME\n",
    "print(\"boosted \\n= \", boosted)"
   ]
  },
  {
   "cell_type": "code",
   "execution_count": null,
   "metadata": {},
   "outputs": [],
   "source": [
    "# 3. Calculate the average and maximum height per plant across 7 days\n",
    "# Use np.mean with appropriate axis\n",
    "# Hint: axis=1 gives row-wise mean (per plant)\n",
    "\n",
    "avg_per_plant = # FIX ME\n",
    "max_per_plant = # FIX ME\n",
    "\n",
    "# Calculate total growth over 7 days (final height - initial height)\n",
    "# Hint: Access first and last column of each row\n",
    "\n",
    "growth = # FIX ME\n",
    "\n",
    "print(\"\\n Average per Plant\\n = \", avg_per_plant)\n",
    "print(\"\\n Maximum per Plant\\n = \", max_per_plant)\n",
    "print(\"Total growth in 7 days:\", growth)"
   ]
  },
  {
   "cell_type": "markdown",
   "metadata": {},
   "source": [
    "### **Example 2** ###"
   ]
  },
  {
   "cell_type": "markdown",
   "metadata": {
    "id": "G0a5WeeuGyNw"
   },
   "source": [
    "This is another similar example. Here, you are asked to perform some basic statistical calculation on the data array previously loaded from \"data.txt\". The loaded data should have 3 columns:\n",
    "> ```\n",
    "Index, Brain Weight, Body Weight\n",
    "```\n",
    "\n",
    "**!!CAUTION!!**\n",
    "\n",
    "* Use aggregation functions, advanced indexing or any other method for efficiency.\n",
    "* Do **NOT** use loop even if you are attempted to!!"
   ]
  },
  {
   "cell_type": "code",
   "execution_count": null,
   "metadata": {
    "id": "JJr22dXfswQS"
   },
   "outputs": [],
   "source": [
    "# Load data\n",
    "\n",
    "txtfile = 'https://github.com/lsuhpchelp/loniscworkshop2025/raw/main/day2/data.txt'\n",
    "data = np.loadtxt(txtfile,\n",
    "                  skiprows=16,\n",
    "                  usecols={0,1,2},\n",
    "                  comments=\"#\")\n",
    "print(\"Loaded data:\\n\", data)"
   ]
  },
  {
   "cell_type": "markdown",
   "metadata": {
    "id": "z-NY12MX26da"
   },
   "source": [
    "### **1) Calculate the average, max, and min brain weight and body weight, respectively**\n",
    "\n",
    "Complete the below calculations."
   ]
  },
  {
   "cell_type": "code",
   "execution_count": null,
   "metadata": {
    "id": "OnijTS_d2zYk"
   },
   "outputs": [],
   "source": [
    "# Calculate average, max, and min brain weight\n",
    "ave_brain_weight = # FIX ME\n",
    "max_brain_weight = # FIX ME\n",
    "min_brain_weight = # FIX ME\n",
    "print(\"Average brain weight is:\\t\", ave_brain_weight)\n",
    "print(\"Max brain weight is:\\t\", max_brain_weight)\n",
    "print(\"Min brain weight is:\\t\", min_brain_weight)\n",
    "\n",
    "# Calculate average, max, and min body weight\n",
    "ave_body_weight = # FIX ME\n",
    "max_body_weight = # FIX ME\n",
    "min_body_weight = # FIX ME\n",
    "print(\"Average brain weight is:\\t\", ave_body_weight)\n",
    "print(\"Max brain weight is:\\t\", max_body_weight)\n",
    "print(\"Min brain weight is:\\t\", min_body_weight)"
   ]
  },
  {
   "cell_type": "markdown",
   "metadata": {
    "id": "_qX1vnU045fP"
   },
   "source": [
    "### **2) Filter out bad data points**\n",
    "\n",
    "Now, notice there is a bad point: Someone's brain is heavier than the body! That is physically impossible. Please remove any rows where the brain is heavier than the body, and redo above calculation.\n",
    "\n",
    "Hint: Use advanced indexing."
   ]
  },
  {
   "cell_type": "code",
   "execution_count": null,
   "metadata": {
    "id": "HRhXNB_Ws7vp"
   },
   "outputs": [],
   "source": [
    "# Filter out bad data points\n",
    "data_filtered = # FIX ME\n",
    "print(\"Filtered data:\\n\", data_filtered)\n",
    "\n",
    "# Calculate average, max, and min brain weight\n",
    "ave_brain_weight = # FIX ME\n",
    "max_brain_weight = # FIX ME\n",
    "min_brain_weight = # FIX ME\n",
    "print(\"Average brain weight is:\\t\", ave_brain_weight)\n",
    "print(\"Max brain weight is:\\t\", max_brain_weight)\n",
    "print(\"Min brain weight is:\\t\", min_brain_weight)\n",
    "\n",
    "# Calculate average, max, and min body weight\n",
    "ave_body_weight = # FIX ME\n",
    "max_body_weight = # FIX ME\n",
    "min_body_weight = # FIX ME\n",
    "print(\"Average brain weight is:\\t\", ave_body_weight)\n",
    "print(\"Max brain weight is:\\t\", max_body_weight)\n",
    "print(\"Min brain weight is:\\t\", min_body_weight)"
   ]
  },
  {
   "cell_type": "code",
   "execution_count": null,
   "metadata": {},
   "outputs": [],
   "source": []
  },
  {
   "cell_type": "markdown",
   "metadata": {
    "id": "j9CJIVS3eYHa"
   },
   "source": [
    "<br><br>\n",
    "\n",
    "---\n",
    "## **[BONUS] Wave Function Propagation of 1-D Harmonic Oscillator**\n",
    "---\n",
    "\n",
    "> * The purpose of this exercise it to practice various NumPy array creationg methods, ufuncs, and aggregation functions in a close-to-practical problem.\n",
    "> * Don't worry if you do not work in physics! You can still finish the exercise even if you do not know the physics."
   ]
  },
  {
   "cell_type": "markdown",
   "metadata": {
    "id": "XanIoS1Cezv9"
   },
   "source": [
    "1-D harmonic oscillator is one of the most fundamental dynamic systems in both classical and quantime-mechanical physics. It describes the dynamics of a particle inside a square potential `V(x) ∝ x^2`. In classical picture, it is just a mass attached to a spring oscillating back and forth. In quantum-mechanical picture, however, is a little more complicated.\n",
    "\n",
    "In quantum mechanics, a particle is not located in a fixed place, instead it has a **probability distribution** of where it may be found, which is defined by a **wave function**. In a quantum-mechanical picture, instead of the particle itself oscillating back and forth, it looks more like its probability distribution (a \"wave packet\", if you will) oscillating back and forth, but in the same way the mass does in the classical picture.\n",
    "\n",
    "![P_4_scenario.png](https://github.com/lsuhpchelp/loniscworkshop2025/raw/main/day2/images/P_4_scenario.png)\n",
    "\n",
    "\n",
    "Here, you are asked to write a simple code to study how the wave function of a 1-D harmonic oscillator propagates using quantum mechanical methods.\n",
    "\n",
    "**!!CAUTION!!**\n",
    "\n",
    "* Use aggregation functions, ufuncs or any other method for efficiency.\n",
    "* Do **NOT** use loop even if you are attempted to!!"
   ]
  },
  {
   "cell_type": "markdown",
   "metadata": {
    "id": "yWQwwTUFmy6d"
   },
   "source": [
    "### **1) Create the initial wave function on a discrete grid**\n",
    "\n",
    "First create a 1-D array of `x` coordinates from `[-L/2, L/2]` (`L=10.`), evenly spaced in `N=101` grid points. You will also need to find out step length `dx`.\n",
    "\n",
    "Then create the initial wave function on the above grid, which should look like:\n",
    "\n",
    "![P_4_psi.png](https://github.com/lsuhpchelp/loniscworkshop2025/raw/main/day2/images/P_4_psi.png)\n",
    "\n",
    "The `√C` is the normalization factor."
   ]
  },
  {
   "cell_type": "code",
   "execution_count": null,
   "metadata": {
    "id": "H9HV2Ac0o61s"
   },
   "outputs": [],
   "source": [
    "# Define parameters\n",
    "N = 101       # Number of grid points\n",
    "L = 10.0      # Length of the box\n",
    "\n",
    "# Define the array x coordinates and obtrain step length dx\n",
    "# Hint: You may np.linspace() to create the array and return the step length\n",
    "x, dx = # FIX ME\n",
    "\n",
    "# Calculate the initial wave function\n",
    "# For simplicity, first calculate without dividing by normalization factor \"√N\", then do the normalization\n",
    "# Hint: You may need np.exp(), np.sqrt(), sum()\n",
    "psi = # FIX ME\n",
    "psi /= # FIX ME\n",
    "\n",
    "# Plot probability distribution abs(psi)**2\n",
    "import matplotlib.pyplot as plt\n",
    "plt.plot(x, np.abs(psi)**2, label=\"Wave function\")\n",
    "plt.legend()\n",
    "plt.show()"
   ]
  },
  {
   "cell_type": "markdown",
   "metadata": {
    "id": "NNNzi-iUtW77"
   },
   "source": [
    "### **2) Create the Hamiltonian matrix**\n",
    "\n",
    "The Hamiltonian matrix is core of the dynamics in quantume mechanics. The Hamiltonian matrix is an `(N, N)` matrix (NumPy array), which can be defined this way:\n",
    "\n",
    "![P_4_H.png](https://github.com/lsuhpchelp/loniscworkshop2025/raw/main/day2/images/P_4_H.png)\n",
    "\n",
    "Basically, matrix `T` (kinetic energy) is a tridiagonal matrix, with all diagonal elements being `-2` and off-diagonal elements being `1`, then times a constant `-1/dx^2`. Matrix `V` (potential energy) is a diagonal matrix, with each element is the potential energy `V(x)=x^2/2` at the corresponding coordinate. All other unwritten elements are `0`."
   ]
  },
  {
   "cell_type": "code",
   "execution_count": null,
   "metadata": {
    "id": "a8jOVc19xa2F"
   },
   "outputs": [],
   "source": [
    "# Create matrix T\n",
    "# Hint: You may need np.diag(), np.identity(), or np.eye(). Don't forget argument \"k\" sets off diagonal elements.\n",
    "T = # FIX ME\n",
    "\n",
    "# Create matrix V\n",
    "# Hint: You may need np.diag()\n",
    "V = # FIX ME\n",
    "\n",
    "# Create Hamiltonian matrix H\n",
    "H = T + V\n",
    "\n",
    "# Print Hamiltonian matrix\n",
    "print(H)"
   ]
  },
  {
   "cell_type": "markdown",
   "metadata": {
    "id": "NfaQxy1X4UCU"
   },
   "source": [
    "### **3) Build the propagator**\n",
    "\n",
    "Now we are getting to the good stuff which (likely) only theoretical physicists know! By doing this, you can proudly tell your friends that you did some actual theoretical physics!\n",
    "\n",
    "Based on the Hamiltonian matrix, we will now build the propagator, a matrix you actually multiple to the left of the wave function. The propagator is defined like this:\n",
    "\n",
    "![P_4_CN.png](https://github.com/lsuhpchelp/loniscworkshop2025/raw/main/day2/images/P_4_CN.png)\n",
    "\n",
    "Where `I` is the `(N, N)` identity matrix, `i` is the imaginary unit, and `dt` is the time step length. Here we will let time goes from `0` to `4*pi`, and a total of `Nt=20,000` steps, so that step length is short enough. Notice that there is a matrix inverse and a matrix multiplications!\n",
    "\n",
    "> This method is called Crank-Nicholson method, the most commonly used numerical method to propagate wave function. The reason we form the propagator this way is to preserve normalization of the wave function."
   ]
  },
  {
   "cell_type": "code",
   "execution_count": null,
   "metadata": {
    "id": "0S-bLZhq6gcz"
   },
   "outputs": [],
   "source": [
    "# Define time coordinates and return time step length dt\n",
    "# Hint: You may np.linspace() to create the array and return the time step\n",
    "tmin = 0\n",
    "tmax = 4*np.pi\n",
    "Nt = 20000\n",
    "t, dt = # FIX ME\n",
    "print(\"Time step length is:\", dt)\n",
    "\n",
    "# Create the propagator\n",
    "# Hint: You may need:\n",
    "#       np.linalg.inv(A)  : Matrix inverse\n",
    "#       np.dot(A,B)       : Matrix multiplication\n",
    "#       1j                : Imaginary unit\n",
    "U = # FIX ME\n",
    "\n",
    "# Print the propagator\n",
    "print(\"Propagator is:\\n\", U)\n",
    "\n",
    "# Look, your propagator should be close to an identity matrix"
   ]
  },
  {
   "cell_type": "markdown",
   "metadata": {
    "id": "1K8hAAFa7ZAZ"
   },
   "source": [
    "### **4) Let's see the results!**\n",
    "\n",
    "Now let's see the results! This part is not very related to NumPy, so I will not ask you to write or understand. But if you have done correctly in previous steps, just run this part and you should see a nice animation of wave packet oscillating back and forth like a classical particle. If it is messed up, check previous steps again."
   ]
  },
  {
   "cell_type": "code",
   "execution_count": null,
   "metadata": {
    "cellView": "form",
    "id": "qT5FzgE58BYh"
   },
   "outputs": [],
   "source": [
    "#@markdown (Run me. I promise there is no harm.)\n",
    "\n",
    "import matplotlib.pyplot as plt\n",
    "from matplotlib.animation import FuncAnimation\n",
    "\n",
    "# Change psi to complex number\n",
    "psi = psi.astype(\"complex\")\n",
    "\n",
    "# Create a figure and axes\n",
    "fig, ax = plt.subplots()\n",
    "\n",
    "# Set the x and y axis of the plot\n",
    "ax.set_xlim(-L/2, L/2)\n",
    "ax.set_ylim(0, 1)\n",
    "\n",
    "# Initialize an empty line object\n",
    "ax.plot(x, x**2/20, \"--\")\n",
    "line, = ax.plot([], [])\n",
    "\n",
    "# Define the animation update function\n",
    "nframe = 100\n",
    "def update(frame):\n",
    "\n",
    "    # Generate y values based on the frame number\n",
    "    global psi\n",
    "    global nframe\n",
    "    for index in range(int(Nt/nframe)):\n",
    "      psi = np.dot(U, psi)\n",
    "\n",
    "    # Update the line data\n",
    "    line.set_data(x, np.abs(psi)**2)\n",
    "\n",
    "    return line,\n",
    "\n",
    "# Create the animation\n",
    "animation = FuncAnimation(fig, update, frames=nframe, interval=50, blit=True)\n",
    "\n",
    "#animation.save(\"P_4_result.gif\")\n",
    "from IPython.display import HTML\n",
    "HTML(animation.to_jshtml())"
   ]
  },
  {
   "cell_type": "markdown",
   "metadata": {
    "id": "xPD8KhjjCiHC"
   },
   "source": [
    "If you are doing it correctly, you should get something like this:\n",
    "![P_4_result.gif](https://github.com/lsuhpchelp/loniscworkshop2024/raw/main/day2/images/P_4_result.gif)"
   ]
  },
  {
   "cell_type": "markdown",
   "metadata": {
    "id": "7mp8FYsMFZ-C"
   },
   "source": [
    "Now, congratulations! You just did some physics research!\n",
    "\n",
    "FYI, what you just did is actually solving the most fundamental equation in quantum mechanics: **Time-Dependent Schrodinger's Equation** (**TDSE**). TDSE governs the quantum-mechanical dynamics of the microscopic particles. In actual research, physicists usually propagate TDSE like this to see how wave function evolve in time to extract useful information. And TDSE results are sometimes regarded as the **exact** results, pretty much equivalent to what you would get in experiments.\n",
    "\n",
    "But actual research problems could be much more costly. They may need larger grid, 3-D instead of 1-D, spherical coordinates, multiple particles, different physics models, etc.."
   ]
  }
 ],
 "metadata": {
  "colab": {
   "collapsed_sections": [
    "JV1Z-KcDgOAm",
    "PWibTAqRsdrN",
    "N8gynHpPsdrT",
    "himJOppusdrZ",
    "B3YXeSYmn-d8",
    "cje4oMbusdrm",
    "njC4cbl5sdrh",
    "bD6vRpoSsdrt",
    "MkqonkYTsxMg",
    "z-NY12MX26da",
    "_qX1vnU045fP",
    "j9CJIVS3eYHa",
    "yWQwwTUFmy6d",
    "NNNzi-iUtW77",
    "NfaQxy1X4UCU",
    "1K8hAAFa7ZAZ"
   ],
   "include_colab_link": true,
   "provenance": [],
   "toc_visible": true
  },
  "kernelspec": {
   "display_name": "Python 3 (ipykernel)",
   "language": "python",
   "name": "python3"
  },
  "language_info": {
   "codemirror_mode": {
    "name": "ipython",
    "version": 3
   },
   "file_extension": ".py",
   "mimetype": "text/x-python",
   "name": "python",
   "nbconvert_exporter": "python",
   "pygments_lexer": "ipython3",
   "version": "3.13.2"
  }
 },
 "nbformat": 4,
 "nbformat_minor": 4
}
