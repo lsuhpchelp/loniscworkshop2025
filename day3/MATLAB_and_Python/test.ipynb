{
 "cells": [
  {
   "cell_type": "code",
   "execution_count": 2,
   "metadata": {},
   "outputs": [],
   "source": [
    "import astropy.units as u\n",
    "from astropy.coordinates import EarthLocation, solar_system_ephemeris\n",
    "from astropy.time import Time\n",
    "from sunpy.coordinates import sun\n",
    "import numpy as np\n",
    "import pandas as pd"
   ]
  },
  {
   "cell_type": "code",
   "execution_count": 3,
   "metadata": {},
   "outputs": [],
   "source": [
    "location = EarthLocation.from_geodetic(-98.5*u.deg, 29.6*u.deg)\n",
    "max2023 = Time('2023-10-14 16:54')\n",
    "max2024 = Time('2024-04-08 18:35')\n",
    "\n",
    "time = max2024"
   ]
  },
  {
   "cell_type": "code",
   "execution_count": 4,
   "metadata": {},
   "outputs": [
    {
     "name": "stdout",
     "output_type": "stream",
     "text": [
      "Eclipse detected:\n",
      "  Partial solar eclipse starts at 2024-04-08 17:15:00.000 UTC\n",
      "  Total solar eclipse starts at 2024-04-08 18:33:44.000 UTC\n",
      "  Total solar eclipse ends at 2024-04-08 18:35:33.000 UTC\n",
      "  Partial solar eclipse ends at 2024-04-08 19:55:00.000 UTC\n"
     ]
    }
   ],
   "source": [
    "# Define an array of observation times centered around the time of interest\n",
    "times = time + np.concatenate([np.arange(-120, -5) * u.min,\n",
    "                                np.arange(-300, 300) * u.s,\n",
    "                                np.arange(5, 121) * u.min])\n",
    "\n",
    "# Create an observer coordinate for the time array\n",
    "observer = location.get_itrs(times)\n",
    "\n",
    "# Calculate the eclipse amounts using a JPL ephemeris\n",
    "with solar_system_ephemeris.set('de440s'):\n",
    "    amount = sun.eclipse_amount(observer)\n",
    "    amount_minimum = sun.eclipse_amount(observer, moon_radius='minimum')\n",
    "\n",
    "# Calculate the start/end points of partial/total solar eclipse\n",
    "partial = np.flatnonzero(amount > 0)\n",
    "if len(partial) > 0:\n",
    "    print(\"Eclipse detected:\")\n",
    "    start_partial, end_partial = times[partial[[0, -1]]]\n",
    "    print(f\"  Partial solar eclipse starts at {start_partial} UTC\")\n",
    "\n",
    "    total = np.flatnonzero(amount_minimum == 1)\n",
    "    if len(total) > 0:\n",
    "        start_total, end_total = times[total[[0, -1]]]\n",
    "        print(f\"  Total solar eclipse starts at {start_total} UTC\\n\"\n",
    "                f\"  Total solar eclipse ends at {end_total} UTC\")\n",
    "    print(f\"  Partial solar eclipse ends at {end_partial} UTC\")\n"
   ]
  },
  {
   "cell_type": "code",
   "execution_count": 18,
   "metadata": {},
   "outputs": [
    {
     "data": {
      "text/html": [
       "<div>\n",
       "<style scoped>\n",
       "    .dataframe tbody tr th:only-of-type {\n",
       "        vertical-align: middle;\n",
       "    }\n",
       "\n",
       "    .dataframe tbody tr th {\n",
       "        vertical-align: top;\n",
       "    }\n",
       "\n",
       "    .dataframe thead th {\n",
       "        text-align: right;\n",
       "    }\n",
       "</style>\n",
       "<table border=\"1\" class=\"dataframe\">\n",
       "  <thead>\n",
       "    <tr style=\"text-align: right;\">\n",
       "      <th></th>\n",
       "      <th>time</th>\n",
       "      <th>amount</th>\n",
       "      <th>amount_minimum</th>\n",
       "    </tr>\n",
       "  </thead>\n",
       "  <tbody>\n",
       "    <tr>\n",
       "      <th>0</th>\n",
       "      <td>2024-04-08 16:35:00</td>\n",
       "      <td>0.0</td>\n",
       "      <td>0.0</td>\n",
       "    </tr>\n",
       "    <tr>\n",
       "      <th>1</th>\n",
       "      <td>2024-04-08 16:36:00</td>\n",
       "      <td>0.0</td>\n",
       "      <td>0.0</td>\n",
       "    </tr>\n",
       "    <tr>\n",
       "      <th>2</th>\n",
       "      <td>2024-04-08 16:37:00</td>\n",
       "      <td>0.0</td>\n",
       "      <td>0.0</td>\n",
       "    </tr>\n",
       "    <tr>\n",
       "      <th>3</th>\n",
       "      <td>2024-04-08 16:38:00</td>\n",
       "      <td>0.0</td>\n",
       "      <td>0.0</td>\n",
       "    </tr>\n",
       "    <tr>\n",
       "      <th>4</th>\n",
       "      <td>2024-04-08 16:39:00</td>\n",
       "      <td>0.0</td>\n",
       "      <td>0.0</td>\n",
       "    </tr>\n",
       "    <tr>\n",
       "      <th>...</th>\n",
       "      <td>...</td>\n",
       "      <td>...</td>\n",
       "      <td>...</td>\n",
       "    </tr>\n",
       "    <tr>\n",
       "      <th>826</th>\n",
       "      <td>2024-04-08 20:31:00</td>\n",
       "      <td>0.0</td>\n",
       "      <td>0.0</td>\n",
       "    </tr>\n",
       "    <tr>\n",
       "      <th>827</th>\n",
       "      <td>2024-04-08 20:32:00</td>\n",
       "      <td>0.0</td>\n",
       "      <td>0.0</td>\n",
       "    </tr>\n",
       "    <tr>\n",
       "      <th>828</th>\n",
       "      <td>2024-04-08 20:33:00</td>\n",
       "      <td>0.0</td>\n",
       "      <td>0.0</td>\n",
       "    </tr>\n",
       "    <tr>\n",
       "      <th>829</th>\n",
       "      <td>2024-04-08 20:34:00</td>\n",
       "      <td>0.0</td>\n",
       "      <td>0.0</td>\n",
       "    </tr>\n",
       "    <tr>\n",
       "      <th>830</th>\n",
       "      <td>2024-04-08 20:35:00</td>\n",
       "      <td>0.0</td>\n",
       "      <td>0.0</td>\n",
       "    </tr>\n",
       "  </tbody>\n",
       "</table>\n",
       "<p>831 rows × 3 columns</p>\n",
       "</div>"
      ],
      "text/plain": [
       "                   time  amount  amount_minimum\n",
       "0   2024-04-08 16:35:00     0.0             0.0\n",
       "1   2024-04-08 16:36:00     0.0             0.0\n",
       "2   2024-04-08 16:37:00     0.0             0.0\n",
       "3   2024-04-08 16:38:00     0.0             0.0\n",
       "4   2024-04-08 16:39:00     0.0             0.0\n",
       "..                  ...     ...             ...\n",
       "826 2024-04-08 20:31:00     0.0             0.0\n",
       "827 2024-04-08 20:32:00     0.0             0.0\n",
       "828 2024-04-08 20:33:00     0.0             0.0\n",
       "829 2024-04-08 20:34:00     0.0             0.0\n",
       "830 2024-04-08 20:35:00     0.0             0.0\n",
       "\n",
       "[831 rows x 3 columns]"
      ]
     },
     "execution_count": 18,
     "metadata": {},
     "output_type": "execute_result"
    }
   ],
   "source": [
    "# Create dataframe from amount and times\n",
    "# Convert Python astropy time to regular python datetime\n",
    "df = pd.DataFrame({'time': times.to_datetime(), 'amount': amount, 'amount_minimum': amount_minimum})\n",
    "df"
   ]
  },
  {
   "cell_type": "code",
   "execution_count": 20,
   "metadata": {},
   "outputs": [
    {
     "data": {
      "text/plain": [
       "<Axes: title={'center': 'Solar Eclipse Amount'}, xlabel='time', ylabel='Eclipse Amount'>"
      ]
     },
     "execution_count": 20,
     "metadata": {},
     "output_type": "execute_result"
    },
    {
     "data": {
      "image/png": "[encoded data removed]",
      "text/plain": [
       "<Figure size 640x480 with 1 Axes>"
      ]
     },
     "metadata": {},
     "output_type": "display_data"
    }
   ],
   "source": [
    "df.plot(x='time', y=['amount', 'amount_minimum'], title='Solar Eclipse Amount', ylabel='Eclipse Amount')"
   ]
  }
 ],
 "metadata": {
  "kernelspec": {
   "display_name": "Python 3",
   "language": "python",
   "name": "python3"
  },
  "language_info": {
   "codemirror_mode": {
    "name": "ipython",
    "version": 3
   },
   "file_extension": ".py",
   "mimetype": "text/x-python",
   "name": "python",
   "nbconvert_exporter": "python",
   "pygments_lexer": "ipython3",
   "version": "3.10.10"
  }
 },
 "nbformat": 4,
 "nbformat_minor": 2
}
