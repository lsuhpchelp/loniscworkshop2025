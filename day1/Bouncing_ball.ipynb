{
  "nbformat": 4,
  "nbformat_minor": 0,
  "metadata": {
    "colab": {
      "provenance": [],
      "authorship_tag": "ABX9TyMM/h0acYK+p1MYf1b0DWZS",
      "include_colab_link": true
    },
    "kernelspec": {
      "name": "python3",
      "display_name": "Python 3"
    },
    "language_info": {
      "name": "python"
    }
  },
  "cells": [
    {
      "cell_type": "markdown",
      "metadata": {
        "id": "view-in-github",
        "colab_type": "text"
      },
      "source": [
        "<a href=\"https://colab.research.google.com/github/lsuhpchelp/loniscworkshop2025/blob/main/day1/Bouncing_ball.ipynb\" target=\"_parent\"><img src=\"https://colab.research.google.com/assets/colab-badge.svg\" alt=\"Open In Colab\"/></a>"
      ]
    },
    {
      "cell_type": "code",
      "execution_count": null,
      "metadata": {
        "id": "Cduz-DM9WP41"
      },
      "outputs": [],
      "source": [
        "# Bouncing ball\n",
        "\n",
        "import numpy as np\n",
        "import matplotlib.pyplot as plt\n",
        "import matplotlib.animation as animation\n",
        "\n",
        "fig, ax = plt.subplots(figsize=(5, 5)\n",
        "\n",
        "ax.set_xlim((0, 10))\n",
        "ax.set_ylim((0, 10))\n",
        "ax.set_aspect('equal')\n",
        "ax.set_title('Bouncing Ball')\n",
        "ax.set_xlabel('x')\n",
        "ax.set_ylabel('y')\n",
        "ax.set_facecolor('white')\n",
        "plt.grid(True)\n",
        "\n",
        "#Ball settings\n",
        "radius = 0.5\n",
        "ball, = ax.plot([], [], 'ro', markersize=30, color='orange')\n",
        "\n",
        "#Ball state\n",
        "position = np.array([5, 5])\n",
        "velocity = np.array([0.5, -0.5])\n",
        "gravity = 9.8\n",
        "\n",
        "def update(frame):\n",
        "  global position, velocity\n",
        "  velocity[1] += gravity * 0.01\n",
        "  position += velocity * 0.01\n",
        "\n",
        "  ball.set_data(position[0], position[1])\n",
        "\n",
        "\n",
        "# Bounce from floor using the bottom of the ball\n",
        "  if position[1] + radius >= 10:\n",
        "    velocity[1] = -velocity[1]\n",
        "    position[1] = 10 - radius\n",
        "    if abs(velocity[1] = 0.0)\n",
        "\n",
        "# Bounce from wall\n",
        "  if position[1] + radius < 10 or position[1] + radius >= 10:\n",
        "    velocity[1] = -velocity[1]\n",
        "    position[1] = 10 - radius\n",
        "\n",
        "  ball.set_data(position[0], position[1])\n",
        "\n",
        "  return ball,\n",
        "\n",
        "anim = animation.FuncAnimation(fig, update, frames=200, interval=20, blit=True)\n",
        "plt.show()\n",
        "\n",
        "from  IPython.display import HTML\n",
        "HTML(anim.to_jshtml())"
      ]
    }
  ]
}